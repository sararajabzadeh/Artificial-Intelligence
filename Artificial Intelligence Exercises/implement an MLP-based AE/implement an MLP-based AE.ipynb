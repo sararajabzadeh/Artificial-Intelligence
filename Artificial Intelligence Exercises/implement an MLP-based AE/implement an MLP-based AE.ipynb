{
 "cells": [
  {
   "cell_type": "markdown",
   "metadata": {
    "id": "E00_Y41aXSg8"
   },
   "source": [
    "# Homework 6.2 - Neural Networks and Deep Learning"
   ]
  },
  {
   "cell_type": "markdown",
   "metadata": {
    "id": "StFE3E5lXShD"
   },
   "source": [
    "**Name**: Sara Rajabzadeh"
   ]
  },
  {
   "cell_type": "markdown",
   "metadata": {
    "id": "eOVUsiNsXShE"
   },
   "source": [
    "**Student Number**:"
   ]
  },
  {
   "cell_type": "markdown",
   "metadata": {
    "id": "v3ygGWuaXShE"
   },
   "source": [
    "**Sources**:"
   ]
  },
  {
   "cell_type": "markdown",
   "metadata": {
    "id": "FOSkStciXShE"
   },
   "source": [
    "An [AutoEncoder](https://en.wikipedia.org/wiki/Autoencoder#:~:text=An%20autoencoder%20is%20a%20type,to%20ignore%20signal%20%E2%80%9Cnoise%E2%80%9D.) (AE) is a type of artificial neural network used to learn efficient data codings in an unsupervised manner. Despite their numerous applications their implemention and theoretical background is pretty straightforward. Throughout this assignment you will implement an [MLP](https://en.wikipedia.org/wiki/Multilayer_perceptron)-based AE to reconstruction hand-written digits of [MNIST](https://en.wikipedia.org/wiki/MNIST_database) dataset. "
   ]
  },
  {
   "cell_type": "markdown",
   "metadata": {
    "id": "AYksuQ7XXShF"
   },
   "source": [
    "### Install & import the required packages\n",
    "Install and import torch and torchvision (or any other package you think might come in handy)."
   ]
  },
  {
   "cell_type": "code",
   "execution_count": 3,
   "metadata": {
    "id": "TQvIhA16XShF"
   },
   "outputs": [],
   "source": [
    "import torch\n",
    "import torch.nn as nn\n",
    "from torch.utils.data import Dataset , DataLoader\n",
    "import numpy as np\n",
    "import pandas as pd\n",
    "import matplotlib.pyplot as plt\n",
    "from sklearn.model_selection import train_test_split\n",
    "%matplotlib inline\n",
    "import torchvision.datasets"
   ]
  },
  {
   "cell_type": "markdown",
   "metadata": {
    "id": "UxB0wS9xXShG"
   },
   "source": [
    "### 0. Load input data and preprocess (3 pt)\n",
    "You're expected to use the MNIST dataset over the course of this assignment. After loading the train and test splits of the dataset, apply the required preprocessing procedures (zero center your input data). PyTorch provides convenient tools to automate this process."
   ]
  },
  {
   "cell_type": "code",
   "execution_count": 5,
   "metadata": {
    "colab": {
     "base_uri": "https://localhost:8080/"
    },
    "id": "TkgI1ltLXShG",
    "outputId": "6ae60ee3-0cab-4602-ba71-f987c11f3640"
   },
   "outputs": [
    {
     "name": "stdout",
     "output_type": "stream",
     "text": [
      "(59999, 785)\n",
      "(56999, 784)\n",
      "(56999,)\n",
      "(3000, 784)\n",
      "(3000,)\n"
     ]
    }
   ],
   "source": [
    "trainD = pd.read_csv(\"mnist_train.csv\")\n",
    "print(trainD.shape)\n",
    "X_train, X_test, Y_train, Y_test = train_test_split(trainD.iloc[:,1:], trainD.iloc[:,0],test_size=1/20, random_state=42)\n",
    "print(X_train.shape)\n",
    "print(Y_train.shape)\n",
    "print(X_test.shape)\n",
    "print(Y_test.shape)\n",
    "\n",
    "\n",
    "# transform = transforms.Compose([transforms.ToTensor(),\n",
    "#                               transforms.Normalize((0.5,), (0.5,)),\n",
    "#                               ])\n",
    "# trainset = datasets.MNIST('PATH_TO_STORE_TRAINSET', download=True, train=True)\n",
    "# validset = datasets.MNIST('PATH_TO_STORE_TESTSET', download=True, train=False)\n",
    "# trainloader = torch.utils.data.DataLoader(trainset, batch_size=64, shuffle=True)\n",
    "# valloader = torch.utils.data.DataLoader(validset, batch_size=64, shuffle=True)"
   ]
  },
  {
   "cell_type": "code",
   "execution_count": 22,
   "metadata": {
    "id": "wimSDBw7YWYy"
   },
   "outputs": [],
   "source": [
    "class DatasetMNIST(Dataset):\n",
    "  def __init__(self, X, y):\n",
    "    self.X = X\n",
    "    self.y = y\n",
    "\n",
    "  def __len__(self):\n",
    "    return len(self.X.index)\n",
    "\n",
    "  def __getitem__(self, idx):\n",
    "    img = torch.tensor(self.X.iloc[idx,].values, dtype=torch.float32)\n",
    "    return img, self.y.iloc[idx]\n"
   ]
  },
  {
   "cell_type": "code",
   "execution_count": 23,
   "metadata": {
    "id": "vvH9bivlpqlE"
   },
   "outputs": [],
   "source": [
    "train_dataset = DatasetMNIST(X=X_train, y=Y_train)\n",
    "test_dataset = DatasetMNIST(X=X_test, y=Y_test)\n",
    "\n",
    "train_loader = DataLoader(dataset=train_dataset, batch_size=64, shuffle=True)\n",
    "test_loader = DataLoader(dataset=test_dataset, batch_size=64, shuffle=True)"
   ]
  },
  {
   "cell_type": "markdown",
   "metadata": {
    "id": "mG3Uww1NXShG"
   },
   "source": [
    "### 1.1. Implement an MLP based Autoencoder (17 pt)\n",
    "The architecture of your network should be symmetrical and have 2 hidden layers of sizes $h_1$ and $h_2$ with a latant size of $l$ while using [$ReLU$](https://en.wikipedia.org/wiki/Rectifier_(neural_networks))s as nonlinearities. The following picture depicts a sample AE architecture for $h_1=4$ and $h_2=3$ and $l=2$ for the reconstruction of $1\\times5$ inputs.\n",
    "\n",
    "<img src=\"./ae.png\">\n",
    "\n",
    "The input to the network will be a minibatch of data, of shape\n",
    "$(N, 28*28)$ where $N$ represents batch size. \n",
    "\n",
    "    Inputs of the forwardpass:\n",
    "    - A batch of flated images (N, 28*28)\n",
    "\n",
    "    outputs of the forwardpass:\n",
    "    - reconstruction: reconstruction of the images."
   ]
  },
  {
   "cell_type": "code",
   "execution_count": 24,
   "metadata": {
    "id": "KZIQInsqXShH"
   },
   "outputs": [],
   "source": [
    "class MLP_MNIST(nn.Module):\n",
    "  def __init__(self, **kwargs):\n",
    "    super().__init__()\n",
    "\n",
    "    self.layers = nn.Sequential(nn.Linear(kwargs[\"inp\"], kwargs[\"h1\"]),\n",
    "                      nn.ReLU(),\n",
    "                      nn.Linear(kwargs[\"h1\"],kwargs[\"h2\"]),\n",
    "                      nn.ReLU(),\n",
    "                      nn.Linear(kwargs[\"h2\"], kwargs[\"l\"]),\n",
    "                      nn.ReLU(),\n",
    "                      nn.Linear(kwargs[\"l\"], kwargs[\"h2\"]),\n",
    "                      nn.ReLU(),\n",
    "                      nn.Linear(kwargs[\"h2\"], kwargs[\"h1\"]),\n",
    "                      nn.ReLU(),\n",
    "                      nn.Linear(kwargs[\"h1\"], kwargs[\"inp\"]),\n",
    "                      nn.ReLU())\n",
    "\n",
    "\n",
    "\n",
    "    \n",
    "  def forward(self,X):\n",
    "    X = self.layers(X)\n",
    "    return X\n"
   ]
  },
  {
   "cell_type": "code",
   "execution_count": 24,
   "metadata": {
    "id": "MjOVAdY1uuXN"
   },
   "outputs": [],
   "source": []
  },
  {
   "cell_type": "markdown",
   "metadata": {
    "id": "78LFJwmxXShH"
   },
   "source": [
    "### 1.2. Train the model (17 pt)\n",
    "Set up a basic training loop for your network. Use a [SGD](https://en.wikipedia.org/wiki/Stochastic_gradient_descent) with no momentums to train your model. Use [L2](https://afteracademy.com/blog/what-are-l1-and-l2-loss-functions) as your objective function. Choose $N$ based on your available resources. (8 pt)"
   ]
  },
  {
   "cell_type": "code",
   "execution_count": 32,
   "metadata": {
    "id": "lEaThRAjXShH"
   },
   "outputs": [],
   "source": [
    "model = MLP_MNIST(inp=28*28, h1=512, h2=256, l=5)\n",
    "optimizer = torch.optim.SGD(model.parameters(), lr=0.001)\n",
    "loss_fn = nn.CrossEntropyLoss()"
   ]
  },
  {
   "cell_type": "code",
   "execution_count": 33,
   "metadata": {
    "id": "uP-vR08Lxdc1"
   },
   "outputs": [],
   "source": [
    "mean_train_loss = []\n",
    "mean_test_loss = []\n",
    "test_acc_list = []\n",
    "epochs = 15\n"
   ]
  },
  {
   "cell_type": "markdown",
   "metadata": {
    "id": "c3xCRrNTXShH"
   },
   "source": [
    "Train a model with $h_1=512$, $h_2=256$ and $l=5$, Train your model long enough so that you get the best results on the validation set. (2 pt)"
   ]
  },
  {
   "cell_type": "code",
   "execution_count": 34,
   "metadata": {
    "colab": {
     "base_uri": "https://localhost:8080/"
    },
    "id": "w9edveE8XShI",
    "outputId": "61655b57-4547-4ddc-be27-616314de0568"
   },
   "outputs": [
    {
     "name": "stdout",
     "output_type": "stream",
     "text": [
      "epoch: 0, train_loss: 3.08, test_loss: 2.44, valid_acc: 60.17\n",
      "epoch: 1, train_loss: 2.31, test_loss: 2.25, valid_acc: 64.87\n",
      "epoch: 2, train_loss: 2.20, test_loss: 2.19, valid_acc: 66.37\n",
      "epoch: 3, train_loss: 2.15, test_loss: 2.19, valid_acc: 65.87\n",
      "epoch: 4, train_loss: 2.13, test_loss: 2.15, valid_acc: 67.00\n",
      "epoch: 5, train_loss: 2.10, test_loss: 2.14, valid_acc: 67.00\n",
      "epoch: 6, train_loss: 2.09, test_loss: 2.13, valid_acc: 67.23\n",
      "epoch: 7, train_loss: 2.07, test_loss: 2.12, valid_acc: 67.40\n",
      "epoch: 8, train_loss: 2.06, test_loss: 2.12, valid_acc: 67.43\n",
      "epoch: 9, train_loss: 2.05, test_loss: 2.12, valid_acc: 67.60\n",
      "epoch: 10, train_loss: 1.93, test_loss: 1.49, valid_acc: 76.27\n",
      "epoch: 11, train_loss: 1.43, test_loss: 1.44, valid_acc: 77.23\n",
      "epoch: 12, train_loss: 1.40, test_loss: 1.44, valid_acc: 77.50\n",
      "epoch: 13, train_loss: 1.39, test_loss: 1.44, valid_acc: 77.03\n",
      "epoch: 14, train_loss: 1.38, test_loss: 1.43, valid_acc: 77.40\n"
     ]
    }
   ],
   "source": [
    "\n",
    "for epoch in range(epochs):\n",
    "  model.train()\n",
    "  train_losses = []\n",
    "  test_losses = []\n",
    "\n",
    "  for i, (images,labels) in enumerate(train_loader):\n",
    "    outputs = model(images)\n",
    "    loss = loss_fn(outputs, labels)\n",
    "    # loss = loss.type(torch.LongTensor)\n",
    "    \n",
    "    optimizer.zero_grad()\n",
    "    loss.backward()\n",
    "    optimizer.step()\n",
    "    train_losses.append(loss.item())\n",
    "\n",
    "  model.eval()\n",
    "  correct = 0\n",
    "  total = 0\n",
    "\n",
    "  with torch.no_grad():\n",
    "    for i, (images,labels) in enumerate(test_loader):\n",
    "      outputs = model(images)\n",
    "      loss = loss_fn(outputs, labels)\n",
    "\n",
    "      test_losses.append(loss.item())\n",
    "\n",
    "      _, preds = torch.max(outputs, 1)\n",
    "      correct += (preds == labels).sum().item()\n",
    "      total += labels.size(0)\n",
    "\n",
    "  mean_train_loss.append(np.mean(train_losses))\n",
    "  mean_test_loss.append(np.mean(test_losses))\n",
    "\n",
    "  accuracy = correct/total*100\n",
    "  test_acc_list.append(accuracy)\n",
    "  print(f'epoch: {epoch}, train_loss: {np.mean(train_losses):.2f}, test_loss: {np.mean(test_losses):.2f}, valid_acc: {accuracy:.2f}')"
   ]
  },
  {
   "cell_type": "markdown",
   "metadata": {
    "id": "vDku7HO_XShI"
   },
   "source": [
    "Plot the mean objective values for training and validation set on each epoch. (2 pt)"
   ]
  },
  {
   "cell_type": "code",
   "execution_count": 36,
   "metadata": {
    "colab": {
     "base_uri": "https://localhost:8080/",
     "height": 582
    },
    "id": "GBrHwG_jXShI",
    "outputId": "bffd7a7a-5d1b-46db-d4ab-e2c85aebfc4e"
   },
   "outputs": [
    {
     "data": {
      "text/plain": [
       "<matplotlib.legend.Legend at 0x7f00d1f4ac88>"
      ]
     },
     "execution_count": 36,
     "metadata": {
      "tags": []
     },
     "output_type": "execute_result"
    },
    {
     "data": {
      "image/png": "[encoded data removed]",
      "text/plain": [
       "<Figure size 1080x720 with 2 Axes>"
      ]
     },
     "metadata": {
      "needs_background": "light",
      "tags": []
     },
     "output_type": "display_data"
    }
   ],
   "source": [
    "fig, (ax1, ax2) = plt.subplots(nrows=1, ncols=2, figsize=(15,10))\n",
    "ax1.plot(mean_train_loss,label = \"train\")\n",
    "ax1.plot(mean_test_loss,label = \"test\")\n",
    "lines, labels = ax1.get_legend_handles_labels()\n",
    "ax1.legend(lines, labels, loc = \"best\")\n",
    "\n",
    "ax2.plot(test_acc_list, label= \"valid_acc\")\n",
    "ax2.legend()"
   ]
  },
  {
   "cell_type": "markdown",
   "metadata": {
    "id": "tuPYsNICXShI"
   },
   "source": [
    "Visualize the best and worst reconstructions of test split. (3 pt)"
   ]
  },
  {
   "cell_type": "code",
   "execution_count": null,
   "metadata": {
    "id": "TeNzE9_5XShI"
   },
   "outputs": [],
   "source": []
  },
  {
   "cell_type": "markdown",
   "metadata": {
    "id": "I4mb1w3cXShJ"
   },
   "source": [
    "Elaborate on how larger batchsizes can affect the training procedure and the final performance of the model? (2 pt)"
   ]
  },
  {
   "cell_type": "markdown",
   "metadata": {
    "id": "aOQ_3LnCikGP"
   },
   "source": [
    "افزایش این مقدار تا حدودی میتواند به کارایی مدل کمک کند اما در صورتی که این سایز خیلی افزایش یابد دیگر مدل ما نمیتواند خوب تعمیم دهد بنابراین افزایش آن از یه حدی به بعد میتواند به شدت کارایی را کاهش دهد"
   ]
  },
  {
   "cell_type": "markdown",
   "metadata": {
    "id": "Z7vudl4qXShJ"
   },
   "source": [
    "### 1.3. Investigation of different Latent sizes (14 pt)\n",
    "By training your AE for $l=1$ to $l=7$ and visualizing the final train and validation reconstruction errors and sample outputs (for a fixed input), investigate the effects of lower and higher encoding latent spaces. (8 pt)"
   ]
  },
  {
   "cell_type": "code",
   "execution_count": 44,
   "metadata": {
    "colab": {
     "base_uri": "https://localhost:8080/"
    },
    "id": "nhH6v83XXShJ",
    "outputId": "c5c464d0-cd67-4752-ea35-ea507e6b372a"
   },
   "outputs": [
    {
     "name": "stdout",
     "output_type": "stream",
     "text": [
      "l: 1, epoch: 0, train_loss: 3.70, test_loss: 3.52, valid_acc: 10.90\n",
      "l: 1, epoch: 1, train_loss: 3.36, test_loss: 3.35, valid_acc: 24.63\n",
      "l: 1, epoch: 2, train_loss: 3.21, test_loss: 3.24, valid_acc: 22.30\n",
      "l: 1, epoch: 3, train_loss: 3.10, test_loss: 3.11, valid_acc: 29.73\n",
      "l: 1, epoch: 4, train_loss: 2.99, test_loss: 3.06, valid_acc: 33.87\n",
      "l: 1, epoch: 5, train_loss: 2.90, test_loss: 2.99, valid_acc: 38.23\n",
      "l: 1, epoch: 6, train_loss: 2.83, test_loss: 2.92, valid_acc: 39.67\n",
      "l: 1, epoch: 7, train_loss: 2.76, test_loss: 2.89, valid_acc: 39.13\n",
      "l: 1, epoch: 8, train_loss: 2.72, test_loss: 2.87, valid_acc: 42.53\n",
      "l: 1, epoch: 9, train_loss: 2.67, test_loss: 2.83, valid_acc: 43.80\n",
      "l: 1, epoch: 10, train_loss: 2.63, test_loss: 2.80, valid_acc: 43.63\n",
      "l: 1, epoch: 11, train_loss: 2.60, test_loss: 2.86, valid_acc: 41.40\n",
      "l: 1, epoch: 12, train_loss: 2.56, test_loss: 2.77, valid_acc: 45.07\n",
      "l: 1, epoch: 13, train_loss: 2.54, test_loss: 2.75, valid_acc: 45.03\n",
      "l: 1, epoch: 14, train_loss: 2.51, test_loss: 2.74, valid_acc: 47.03\n",
      "l: 2, epoch: 0, train_loss: 4.37, test_loss: 3.86, valid_acc: 11.33\n",
      "l: 2, epoch: 1, train_loss: 3.79, test_loss: 3.72, valid_acc: 14.27\n",
      "l: 2, epoch: 2, train_loss: 3.56, test_loss: 3.34, valid_acc: 35.53\n",
      "l: 2, epoch: 3, train_loss: 3.19, test_loss: 3.16, valid_acc: 42.57\n",
      "l: 2, epoch: 4, train_loss: 3.01, test_loss: 2.96, valid_acc: 53.20\n",
      "l: 2, epoch: 5, train_loss: 2.94, test_loss: 2.91, valid_acc: 54.60\n",
      "l: 2, epoch: 6, train_loss: 2.89, test_loss: 2.90, valid_acc: 54.97\n",
      "l: 2, epoch: 7, train_loss: 2.85, test_loss: 2.90, valid_acc: 53.33\n",
      "l: 2, epoch: 8, train_loss: 2.19, test_loss: 1.76, valid_acc: 68.87\n",
      "l: 2, epoch: 9, train_loss: 1.61, test_loss: 1.64, valid_acc: 71.93\n",
      "l: 2, epoch: 10, train_loss: 1.53, test_loss: 1.60, valid_acc: 73.73\n",
      "l: 2, epoch: 11, train_loss: 1.49, test_loss: 1.61, valid_acc: 73.27\n",
      "l: 2, epoch: 12, train_loss: 1.46, test_loss: 1.59, valid_acc: 73.97\n",
      "l: 2, epoch: 13, train_loss: 1.43, test_loss: 1.55, valid_acc: 74.60\n",
      "l: 2, epoch: 14, train_loss: 1.41, test_loss: 1.54, valid_acc: 75.13\n",
      "l: 3, epoch: 0, train_loss: 2.83, test_loss: 1.69, valid_acc: 53.33\n",
      "l: 3, epoch: 1, train_loss: 1.54, test_loss: 1.51, valid_acc: 59.97\n",
      "l: 3, epoch: 2, train_loss: 1.33, test_loss: 1.33, valid_acc: 67.97\n",
      "l: 3, epoch: 3, train_loss: 1.20, test_loss: 1.17, valid_acc: 75.73\n",
      "l: 3, epoch: 4, train_loss: 1.12, test_loss: 1.14, valid_acc: 76.27\n",
      "l: 3, epoch: 5, train_loss: 1.06, test_loss: 1.08, valid_acc: 78.57\n",
      "l: 3, epoch: 6, train_loss: 1.01, test_loss: 1.04, valid_acc: 80.23\n",
      "l: 3, epoch: 7, train_loss: 0.97, test_loss: 1.11, valid_acc: 76.60\n",
      "l: 3, epoch: 8, train_loss: 0.94, test_loss: 1.00, valid_acc: 81.37\n",
      "l: 3, epoch: 9, train_loss: 0.91, test_loss: 1.00, valid_acc: 80.83\n",
      "l: 3, epoch: 10, train_loss: 0.89, test_loss: 0.99, valid_acc: 81.20\n",
      "l: 3, epoch: 11, train_loss: 0.87, test_loss: 1.00, valid_acc: 81.20\n",
      "l: 3, epoch: 12, train_loss: 0.85, test_loss: 1.01, valid_acc: 80.40\n",
      "l: 3, epoch: 13, train_loss: 0.84, test_loss: 0.97, valid_acc: 81.70\n",
      "l: 3, epoch: 14, train_loss: 0.82, test_loss: 1.02, valid_acc: 80.23\n",
      "l: 4, epoch: 0, train_loss: 1.47, test_loss: 1.09, valid_acc: 81.07\n",
      "l: 4, epoch: 1, train_loss: 0.59, test_loss: 0.29, valid_acc: 91.30\n",
      "l: 4, epoch: 2, train_loss: 0.23, test_loss: 0.24, valid_acc: 92.63\n",
      "l: 4, epoch: 3, train_loss: 0.18, test_loss: 0.20, valid_acc: 94.07\n",
      "l: 4, epoch: 4, train_loss: 0.15, test_loss: 0.17, valid_acc: 95.07\n",
      "l: 4, epoch: 5, train_loss: 0.13, test_loss: 0.17, valid_acc: 95.07\n",
      "l: 4, epoch: 6, train_loss: 0.11, test_loss: 0.17, valid_acc: 95.00\n",
      "l: 4, epoch: 7, train_loss: 0.10, test_loss: 0.15, valid_acc: 95.80\n",
      "l: 4, epoch: 8, train_loss: 0.09, test_loss: 0.14, valid_acc: 96.07\n",
      "l: 4, epoch: 9, train_loss: 0.08, test_loss: 0.16, valid_acc: 95.07\n",
      "l: 4, epoch: 10, train_loss: 0.07, test_loss: 0.15, valid_acc: 95.53\n",
      "l: 4, epoch: 11, train_loss: 0.06, test_loss: 0.14, valid_acc: 96.47\n",
      "l: 4, epoch: 12, train_loss: 0.05, test_loss: 0.13, valid_acc: 96.23\n",
      "l: 4, epoch: 13, train_loss: 0.04, test_loss: 0.15, valid_acc: 95.67\n",
      "l: 4, epoch: 14, train_loss: 0.04, test_loss: 0.13, valid_acc: 96.13\n",
      "l: 5, epoch: 0, train_loss: 1.31, test_loss: 0.40, valid_acc: 87.53\n",
      "l: 5, epoch: 1, train_loss: 0.29, test_loss: 0.28, valid_acc: 90.67\n",
      "l: 5, epoch: 2, train_loss: 0.21, test_loss: 0.22, valid_acc: 93.07\n",
      "l: 5, epoch: 3, train_loss: 0.17, test_loss: 0.18, valid_acc: 94.60\n",
      "l: 5, epoch: 4, train_loss: 0.14, test_loss: 0.17, valid_acc: 94.87\n",
      "l: 5, epoch: 5, train_loss: 0.12, test_loss: 0.15, valid_acc: 95.10\n",
      "l: 5, epoch: 6, train_loss: 0.10, test_loss: 0.14, valid_acc: 95.13\n",
      "l: 5, epoch: 7, train_loss: 0.09, test_loss: 0.13, valid_acc: 95.70\n",
      "l: 5, epoch: 8, train_loss: 0.08, test_loss: 0.13, valid_acc: 95.73\n",
      "l: 5, epoch: 9, train_loss: 0.07, test_loss: 0.14, valid_acc: 95.60\n",
      "l: 5, epoch: 10, train_loss: 0.06, test_loss: 0.13, valid_acc: 95.90\n",
      "l: 5, epoch: 11, train_loss: 0.05, test_loss: 0.13, valid_acc: 96.07\n",
      "l: 5, epoch: 12, train_loss: 0.05, test_loss: 0.12, valid_acc: 96.33\n",
      "l: 5, epoch: 13, train_loss: 0.04, test_loss: 0.14, valid_acc: 95.63\n",
      "l: 5, epoch: 14, train_loss: 0.04, test_loss: 0.14, valid_acc: 95.80\n",
      "l: 6, epoch: 0, train_loss: 1.53, test_loss: 0.34, valid_acc: 89.17\n",
      "l: 6, epoch: 1, train_loss: 0.26, test_loss: 0.22, valid_acc: 93.37\n",
      "l: 6, epoch: 2, train_loss: 0.18, test_loss: 0.19, valid_acc: 94.67\n",
      "l: 6, epoch: 3, train_loss: 0.15, test_loss: 0.15, valid_acc: 95.50\n",
      "l: 6, epoch: 4, train_loss: 0.12, test_loss: 0.14, valid_acc: 95.93\n",
      "l: 6, epoch: 5, train_loss: 0.11, test_loss: 0.14, valid_acc: 95.80\n",
      "l: 6, epoch: 6, train_loss: 0.09, test_loss: 0.14, valid_acc: 96.10\n",
      "l: 6, epoch: 7, train_loss: 0.08, test_loss: 0.13, valid_acc: 96.40\n",
      "l: 6, epoch: 8, train_loss: 0.07, test_loss: 0.14, valid_acc: 95.87\n",
      "l: 6, epoch: 9, train_loss: 0.06, test_loss: 0.12, valid_acc: 96.83\n",
      "l: 6, epoch: 10, train_loss: 0.05, test_loss: 0.11, valid_acc: 96.73\n",
      "l: 6, epoch: 11, train_loss: 0.05, test_loss: 0.11, valid_acc: 97.00\n",
      "l: 6, epoch: 12, train_loss: 0.04, test_loss: 0.12, valid_acc: 96.93\n",
      "l: 6, epoch: 13, train_loss: 0.03, test_loss: 0.11, valid_acc: 96.87\n",
      "l: 6, epoch: 14, train_loss: 0.03, test_loss: 0.12, valid_acc: 96.80\n",
      "l: 7, epoch: 0, train_loss: 2.09, test_loss: 1.73, valid_acc: 70.70\n",
      "l: 7, epoch: 1, train_loss: 1.61, test_loss: 1.62, valid_acc: 74.07\n",
      "l: 7, epoch: 2, train_loss: 1.53, test_loss: 1.58, valid_acc: 74.77\n",
      "l: 7, epoch: 3, train_loss: 1.49, test_loss: 1.54, valid_acc: 75.27\n",
      "l: 7, epoch: 4, train_loss: 1.46, test_loss: 1.53, valid_acc: 75.47\n",
      "l: 7, epoch: 5, train_loss: 1.44, test_loss: 1.51, valid_acc: 76.03\n",
      "l: 7, epoch: 6, train_loss: 1.42, test_loss: 1.51, valid_acc: 76.13\n",
      "l: 7, epoch: 7, train_loss: 1.41, test_loss: 1.51, valid_acc: 76.20\n",
      "l: 7, epoch: 8, train_loss: 1.40, test_loss: 1.50, valid_acc: 76.40\n",
      "l: 7, epoch: 9, train_loss: 1.38, test_loss: 1.50, valid_acc: 76.33\n",
      "l: 7, epoch: 10, train_loss: 1.37, test_loss: 1.49, valid_acc: 76.63\n",
      "l: 7, epoch: 11, train_loss: 1.37, test_loss: 1.49, valid_acc: 76.70\n",
      "l: 7, epoch: 12, train_loss: 1.36, test_loss: 1.49, valid_acc: 76.73\n",
      "l: 7, epoch: 13, train_loss: 1.35, test_loss: 1.49, valid_acc: 76.97\n",
      "l: 7, epoch: 14, train_loss: 1.35, test_loss: 1.49, valid_acc: 76.77\n"
     ]
    }
   ],
   "source": [
    "ls = []\n",
    "for j in range(1,8):\n",
    "  model = MLP_MNIST(inp=28*28, h1=512, h2=256, l=j)\n",
    "  optimizer = torch.optim.SGD(model.parameters(), lr=0.001)\n",
    "  loss_fn = nn.CrossEntropyLoss()\n",
    "  for epoch in range(epochs):\n",
    "    model.train()\n",
    "    train_losses = []\n",
    "    test_losses = []\n",
    "\n",
    "    for i, (images,labels) in enumerate(train_loader):\n",
    "      outputs = model(images)\n",
    "      loss = loss_fn(outputs, labels)\n",
    "      # loss = loss.type(torch.LongTensor)\n",
    "      \n",
    "      optimizer.zero_grad()\n",
    "      loss.backward()\n",
    "      optimizer.step()\n",
    "      train_losses.append(loss.item())\n",
    "\n",
    "    model.eval()\n",
    "    correct = 0\n",
    "    total = 0\n",
    "\n",
    "    with torch.no_grad():\n",
    "      for i, (images,labels) in enumerate(test_loader):\n",
    "        outputs = model(images)\n",
    "        loss = loss_fn(outputs, labels)\n",
    "\n",
    "        test_losses.append(loss.item())\n",
    "\n",
    "        _, preds = torch.max(outputs, 1)\n",
    "        correct += (preds == labels).sum().item()\n",
    "        total += labels.size(0)\n",
    "\n",
    "    mean_train_loss.append(np.mean(train_losses))\n",
    "    mean_test_loss.append(np.mean(test_losses))\n",
    "    ls+=[j]\n",
    "\n",
    "    accuracy = correct/total*100\n",
    "    test_acc_list.append(accuracy)\n",
    "    print(f'l: {j}, epoch: {epoch}, train_loss: {np.mean(train_losses):.2f}, test_loss: {np.mean(test_losses):.2f}, valid_acc: {accuracy:.2f}')\n",
    "    "
   ]
  },
  {
   "cell_type": "markdown",
   "metadata": {
    "id": "nnVwIPKSXShK"
   },
   "source": [
    "Elaborate on how the increase of the latent size of the AE will affect the quality of the reconstructed images and why? (3 pt)"
   ]
  },
  {
   "cell_type": "markdown",
   "metadata": {
    "id": "T_uEfseOjviG"
   },
   "source": [
    "همان طور که در بالا مشخص است افزایش این مقدار میتواند تا حدودی موثر باشد و کارایی را افزایش دهد اما هنگامی که آن را ۷ قرار دادیم کارایی کاهش پیدا کرد زیرا اگر این مقدار کوچک باشد نمیتوان به خوبی اطلاعات رمزگذاری شده را رمزگشایی کرد زیرا ممکن است اطلاعاتی ا ناخواسته از دست بدهیم و اما اگر این مقدار زیاد باشد ممکن است ازاطلاعات نه چندان خوبی را وارد آن کنیم که کیفیت کار از دست برود."
   ]
  },
  {
   "cell_type": "markdown",
   "metadata": {
    "id": "DDgYu08fXShK"
   },
   "source": [
    "Elaborate on how the increase of the latent size of the AE will affect its training time? (3 pt)"
   ]
  },
  {
   "cell_type": "markdown",
   "metadata": {
    "id": "wuXLkjcGofld"
   },
   "source": [
    "باعث افزایش آن میشود. زیرا هر چقدر زیاد شود تعداد خصیصه های لازم برای آموزش داده ها افزایش می یابد و در نهایت زمان آموزش بیشتر خواهد شد"
   ]
  },
  {
   "cell_type": "markdown",
   "metadata": {
    "id": "w8TymCM3XShL"
   },
   "source": [
    "### 2. AE as a dimensionality reduction tool (14 pt)\n",
    "Plot the respective latent vectors of the validation images after training an AE with $l=2$. (10 pt)"
   ]
  },
  {
   "cell_type": "code",
   "execution_count": 48,
   "metadata": {
    "colab": {
     "base_uri": "https://localhost:8080/",
     "height": 584
    },
    "id": "saw3782b7BH8",
    "outputId": "66b63f40-b057-42b2-9ed9-f71f3842e251"
   },
   "outputs": [
    {
     "data": {
      "text/plain": [
       "[<matplotlib.lines.Line2D at 0x7f00d07ee358>]"
      ]
     },
     "execution_count": 48,
     "metadata": {
      "tags": []
     },
     "output_type": "execute_result"
    },
    {
     "data": {
      "image/png": "[encoded data removed]",
      "text/plain": [
       "<Figure size 1080x720 with 1 Axes>"
      ]
     },
     "metadata": {
      "needs_background": "light",
      "tags": []
     },
     "output_type": "display_data"
    }
   ],
   "source": [
    "fig,ax1 = plt.subplots(nrows=1, ncols=1, figsize=(15,10))\n",
    "ax1.plot(ls,test_acc_list[30:],label = \"test\")"
   ]
  },
  {
   "cell_type": "markdown",
   "metadata": {
    "id": "Ya5CVO7xXShL"
   },
   "source": [
    "Elaborate on why you see what you see!? (2 pt)"
   ]
  },
  {
   "cell_type": "markdown",
   "metadata": {
    "id": "t8_7x6xW7FAS"
   },
   "source": [
    "<div dir=\"rtl\">همانطور که مشخص است و در بالا نیز اشاره شد تا جایی افزایش l به کیفیت کمک میکند اما از جایی به بعد از کیفیت آن میکاهد زیرا خصیصه هایی را به درد نمیخورد وارد کار می شوند و این باعث می شود که کیفیت تصویر خوب نشود.</div>"
   ]
  },
  {
   "cell_type": "markdown",
   "metadata": {
    "id": "sVtoy3yGXShL"
   },
   "source": [
    "Describe how AEs can be used as a visualization tool (like PCA algorithm). (2 pt)"
   ]
  },
  {
   "cell_type": "markdown",
   "metadata": {
    "id": "Xk4gobp6AUCt"
   },
   "source": [
    "<div dir=\"rtl\"></div>"
   ]
  },
  {
   "cell_type": "code",
   "execution_count": null,
   "metadata": {
    "id": "iTcpMP0JBeSp"
   },
   "outputs": [],
   "source": []
  }
 ],
 "metadata": {
  "colab": {
   "collapsed_sections": [],
   "name": "AI-HW6-2-Practical.ipynb",
   "provenance": []
  },
  "kernelspec": {
   "display_name": "Python 3",
   "language": "python",
   "name": "python3"
  },
  "language_info": {
   "codemirror_mode": {
    "name": "ipython",
    "version": 3
   },
   "file_extension": ".py",
   "mimetype": "text/x-python",
   "name": "python",
   "nbconvert_exporter": "python",
   "pygments_lexer": "ipython3",
   "version": "3.7.4"
  }
 },
 "nbformat": 4,
 "nbformat_minor": 1
}
